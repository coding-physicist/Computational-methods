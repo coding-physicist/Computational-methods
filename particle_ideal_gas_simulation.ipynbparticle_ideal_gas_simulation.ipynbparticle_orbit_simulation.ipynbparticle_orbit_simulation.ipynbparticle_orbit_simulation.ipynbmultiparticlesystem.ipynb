{
 "cells": [
  {
   "cell_type": "markdown",
   "metadata": {},
   "source": [
    "# Molecular Dynamics: Ideal Gas Simulation\n",
    "\n",
    "This notebook simulates the classical motion of many particles (molecules) in a 2D box. Particles represent ideal gas molecules—they move in straight lines and exchange momentum only with the box walls (no inter-particle collisions). The box imposes \"elastic\" boundary conditions: when a particle hits a wall, it bounces back without losing any speed.\n",
    "\n",
    "Key features of the ideal gas model:\n",
    "- Random initial positions and velocities\n",
    "- Elastic collisions with box walls\n",
    "- No inter-particle forces (ideal gas limit)\n",
    "- You can analyze energy, velocity distributions, and watch the \"microscopic\" behavior\n",
    "\n",
    "---\n",
    "\n",
    "> Extension: To simulate real gas effects like energy exchange or Maxwell velocity distributions, a future version could include particle-particle (hard sphere) collisions."
   ]
  },
  {
   "cell_type": "code",
   "execution_count": null,
   "metadata": {},
   "outputs": [],
   "source": [
    "import numpy as np\n",
    "import matplotlib.pyplot as plt\n",
    "from matplotlib import animation\n",
    "\n",
    "# PARAMETERS\n",
    "N = 100    # number of particles\n",
    "L = 10.0   # box size (length)\n",
    "v_max = 1  # maximum initial speed\n",
    "\n",
    "# INITIALIZE positions and velocities (uniformly random)\n",
    "np.random.seed(42)\n",
    "pos = np.random.uniform(0, L, (N, 2))\n",
    "angles = np.random.uniform(0, 2*np.pi, N)\n",
    "speeds = np.random.uniform(0, v_max, N)\n",
    "vel = np.column_stack((np.cos(angles) * speeds, np.sin(angles) * speeds))\n",
    "\n",
    "dt = 0.05\n",
    "\n",
    "def update_positions(pos, vel, L, dt):\n",
    "    pos += vel * dt\n",
    "\n",
    "    # Wall collisions: reflect position and reverse velocity if out of bounds\n",
    "    for dim in range(2):\n",
    "        hit_low = pos[:, dim] < 0\n",
    "        hit_high = pos[:, dim] > L\n",
    "        vel[hit_low | hit_high, dim] *= -1\n",
    "        pos[:, dim] = np.clip(pos[:, dim], 0, L)\n",
    "    return pos, vel\n",
    "\n",
    "# PLOT SETUP\n",
    "fig, ax = plt.subplots(figsize=(6, 6))\n",
    "particles, = ax.plot([], [], 'bo', ms=3)\n",
    "ax.set_xlim(0, L)\n",
    "ax.set_ylim(0, L)\n",
    "ax.set_aspect('equal')\n",
    "\n",
    "def animate(frame):\n",
    "    global pos, vel\n",
    "    pos, vel = update_positions(pos, vel, L, dt)\n",
    "    particles.set_data(pos[:, 0], pos[:, 1])\n",
    "    return particles,\n",
    "\n",
    "anim = animation.FuncAnimation(fig, animate, frames=200, interval=30, blit=True)\n",
    "plt.close()  # Prevent static display\n",
    "\n",
    "from IPython.display import HTML\n",
    "HTML(anim.to_jshtml())"
   ]
  }
 ],
 "metadata": {
  "kernelspec": {
   "display_name": "Python 3",
   "language": "python",
   "name": "python3"
  },
  "language_info": {
   "codemirror_mode": {
    "name": "ipython",
    "version": 3
   },
   "file_extension": ".py",
   "mimetype": "text/x-python",
   "name": "python",
   "nbconvert_exporter": "python",
   "pygments_lexer": "ipython3",
   "version": "3.8.5"
  }
 },
 "nbformat": 4,
 "nbformat_minor": 4
}
