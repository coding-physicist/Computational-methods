{
 "cells": [
  {
   "cell_type": "markdown",
   "metadata": {},
   "source": [
    "# Random Walks and Monte Carlo Simulations"
   ]
  },
  {
   "cell_type": "markdown",
   "metadata": {},
   "source": [
    "## π (Pi) estimation via Monte Carlo\n",
    "\n",
    "This section uses random sampling of points within a unit square to estimate the value of π. By increasing the sample size, you can observe the convergence towards the true value. The method demonstrates the basics of Monte Carlo integration."
   ]
  },
  {
   "cell_type": "code",
   "execution_count": null,
   "metadata": {},
   "outputs": [],
   "source": [
    "import random as rd\n",
    "import math as mt\n",
    "a=[[],[],[]]\n",
    "for z in range(2,8):\n",
    "    n=10**z\n",
    "    count=0\n",
    "    for i in range (n):\n",
    "        x=rd.random()\n",
    "        y=rd.random()\n",
    "        if y<mt.sqrt(1-x*x):\n",
    "            count+=1\n",
    "    pi=count/n*4\n",
    "    a[0].append(z)\n",
    "    a[1].append(pi)\n",
    "    a[2].append(abs(pi-mt.pi))\n",
    "print(a[0])\n",
    "print(a[1])\n",
    "print(a[2])"
   ]
  },
  {
   "cell_type": "markdown",
   "metadata": {},
   "source": [
    "## Monte Carlo polynomial mean simulation\n",
    "\n",
    "This section uses random values to evaluate a polynomial function repeatedly, calculating the mean of results. This demonstrates numerical averaging and random sampling techniques often used in stochastic simulations."
   ]
  },
  {
   "cell_type": "code",
   "execution_count": null,
   "metadata": {},
   "outputs": [],
   "source": [
    "import numpy as np\n",
    "means=[[],[]]\n",
    "i=0\n",
    "while i<8:\n",
    "    def fnctn(x):\n",
    "        y=-x**3+6*x**2-x+17\n",
    "        return y\n",
    "    def f(x):\n",
    "        return -2+x*7\n",
    "    x=list(map(f,np.random.rand(10**i)))\n",
    "    result=list(map(fnctn,x))\n",
    "    means[0].append(i)\n",
    "    means[1].append(np.mean(result))\n",
    "    i+=1\n",
    "print(means)"
   ]
  },
  {
   "cell_type": "markdown",
   "metadata": {},
   "source": [
    "## 1D random walk models and analysis\n",
    "\n",
    "### 1D Random Walk with Coin Toss Model\n",
    "\n",
    "This simulates a one-dimensional random walk where each step is either +1 or –1, analogous to a sequence of coin tosses. The histogram shows the distribution of walk outcomes after many steps, illustrating the central limit tendency."
   ]
  },
  {
   "cell_type": "code",
   "execution_count": null,
   "metadata": {},
   "outputs": [],
   "source": [
    "import random as rd\n",
    "import matplotlib.pyplot as plt\n",
    "a=[-1,1]\n",
    "sto=[]\n",
    "N=12\n",
    "for i in range(10**6):\n",
    "    sum=0\n",
    "    for j in range(N):\n",
    "        sum+=rd.choice(a)\n",
    "    sto.append(sum)\n",
    "plt.hist(sto,bins=50)\n",
    "plt.show()"
   ]
  },
  {
   "cell_type": "markdown",
   "metadata": {},
   "source": [
    "### Large-Scale 1D Random Walks: Trajectory & Spread\n",
    "\n",
    "Simulates multiple steps of a 1D random walk, tracking position and plotting the full trajectory. Also analyzes displacement (distance from origin) and produces visualizations such as the evolution of spread and histograms."
   ]
  },
  {
   "cell_type": "code",
   "execution_count": null,
   "metadata": {},
   "outputs": [],
   "source": [
    "import random as rd\n",
    "import matplotlib.pyplot as plt\n",
    "import numpy as np\n",
    "n=10**4\n",
    "pos=0\n",
    "positions=[]\n",
    "for i in range(n):\n",
    "    if rd.random()>0.5:\n",
    "        pos+=1\n",
    "    else:\n",
    "        pos-=1\n",
    "    positions.append(pos)\n",
    "n=[x for x in range(len(positions))]\n",
    "plt.plot(n,positions)\n",
    "plt.title('Random Walk')\n",
    "plt.xlabel('steps')\n",
    "plt.ylabel('displacement')\n",
    "plt.show()\n",
    "\n",
    "spread=[positions[i]**2 for i in range(len(positions))]\n",
    "plt.plot(n,spread)\n",
    "plt.title('spread')\n",
    "plt.show()\n",
    "\n",
    "plt.hist(positions,bins=100)\n",
    "plt.show()"
   ]
  },
  {
   "cell_type": "markdown",
   "metadata": {},
   "source": [
    "### Mean and Mean-Square Analysis of Random Walks\n",
    "\n",
    "Calculates the mean and mean-square displacement of a random walk sequence. This section includes code for computing statistics of the trajectory, along with short-interval data and basic checks."
   ]
  },
  {
   "cell_type": "code",
   "execution_count": null,
   "metadata": {},
   "outputs": [],
   "source": [
    "from random import random\n",
    "from matplotlib.pyplot import plot as plt\n",
    "import numpy as np\n",
    "x=0\n",
    "pos=[]\n",
    "for i in range (10**4):\n",
    "    if random()<0.5:\n",
    "        x+=1\n",
    "    else:\n",
    "        x-=1\n",
    "    pos.append(x)\n",
    "data=np.array(pos)\n",
    "mean=data.mean()\n",
    "meansquare=np.multiply(data,data).mean()\n",
    "print(mean,meansquare)\n",
    "print(data[-11:-1])\n",
    "print(np.multiply(data[-11:-1],data[-11:-1]))"
   ]
  },
  {
   "cell_type": "markdown",
   "metadata": {},
   "source": [
    "## 2D random walk models and analysis\n",
    "\n",
    "### 2D Random Walk and Lattice Occupation\n",
    "\n",
    "Simulates a two-dimensional random walk on a grid, visualizing the path taken and the spread of final positions. Additionally, demonstrates filling a lattice with random occupation and counts empty/occupied sites."
   ]
  },
  {
   "cell_type": "code",
   "execution_count": null,
   "metadata": {},
   "outputs": [],
   "source": [
    "from random import randint\n",
    "import numpy as np\n",
    "import matplotlib.pyplot as plt\n",
    "n=100\n",
    "positions=[[0,0]]\n",
    "for i in range(n):\n",
    "    direction=randint(1,4)\n",
    "    x=positions[i][0]\n",
    "    y=positions[i][1]\n",
    "    if direction==1:\n",
    "        x+=1\n",
    "    elif direction==2:\n",
    "        x-=1\n",
    "    elif direction==3:\n",
    "        y+=1\n",
    "    elif direction==4:\n",
    "        y-=1\n",
    "    positions.append([x,y])\n",
    "print(positions)\n",
    "x=[i[0] for i in positions]\n",
    "y=[i[1] for i in positions]\n",
    "plt.plot(x,y)\n",
    "plt.title('2D Random Walk')\n",
    "plt.show()\n",
    "\n",
    "# Lattice occupation example\n",
    "a=np.ones((5,5))\n",
    "print(a)\n",
    "proboccp=0.5\n",
    "from numpy.random import random\n",
    "data=random((5,5))\n",
    "occ=data<proboccp\n",
    "lattice=(occ*a)\n",
    "print('occupied sites',(lattice==1).sum())\n",
    "print('empty sites',(lattice==0).sum())"
   ]
  }
 ],
 "metadata": {
  "kernelspec": {
   "display_name": "Python 3",
   "language": "python",
   "name": "python3"
  },
  "language_info": {
   "codemirror_mode": {
    "name": "ipython",
    "version": 3
   },
   "file_extension": ".py",
   "mimetype": "text/x-python",
   "name": "python",
   "nbconvert_exporter": "python",
   "pygments_lexer": "ipython3",
   "version": "3.8.5"
  }
 },
 "nbformat": 4,
 "nbformat_minor": 4
}
