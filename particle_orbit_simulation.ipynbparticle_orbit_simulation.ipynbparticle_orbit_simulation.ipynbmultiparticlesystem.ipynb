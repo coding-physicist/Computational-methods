{
 "cells": [
  {
   "cell_type": "code",
   "execution_count": 1,
   "metadata": {},
   "outputs": [],
   "source": [
    "import numpy as np\n",
    "import matplotlib.pyplot as plt\n"
   ]
  },
  {
   "cell_type": "code",
   "execution_count": 79,
   "metadata": {},
   "outputs": [],
   "source": [
    "class system:\n",
    "    time=0\n",
    "    dt=0.01\n",
    "    def __init__(self,posx,posy,velx,vely,mass):\n",
    "        self.mass=mass\n",
    "        self.pos=np.array([posx,posy])\n",
    "        self.velocity=np.array([velx,vely])\n",
    "   \n",
    "    def position_vector(x,y):\n",
    "        return y.pos-x.pos\n",
    "\n",
    "    def force(x):\n",
    "        forcee=-5*x.mass/np.linalg.norm(x.pos)**3*x.pos\n",
    "        return forcee\n",
    "    \n",
    "    def update(self):\n",
    "        self.velocity=self.velocity+system.force(self)*system.dt/self.mass\n",
    "        self.pos=self.pos+self.velocity*system.dt\n",
    "   \n",
    "    def runner(x,t):\n",
    "        duration=int(t)\n",
    "        positions=np.array([x.pos[0],x.pos[1],0])\n",
    "        print(positions.shape)\n",
    "        for i in range (int(duration)):\n",
    "            x.update()\n",
    "            new=(np.array([x.pos[0],x.pos[1],i+1]))\n",
    "            positions=np.vstack((positions,new))\n",
    "        plt.scatter(positions[:,0],positions[:,1],alpha=positions[:,2]/duration)\n",
    "        plt.xticks([])\n",
    "        plt.scatter(0,0,c='red')\n",
    "        plt.show()\n",
    "\n",
    "class newsystem(system):\n",
    "\n",
    "    system_Size=10\n",
    "    max_Velocity=2\n",
    "\n",
    "    def __init__(self,name,posx,posy,velx,vely,mass):\n",
    "        super.__init__(system,posx,posy,velx,vely)\n",
    "        self.name=name\n",
    "    \n",
    "    def create_Particle(n):\n",
    "        system=[]\n",
    "        for i in range (n):\n",
    "            name=f'Particle {i}'\n",
    "            numbers=np.random.rand((4,0))\n",
    "            particles=newsystem(name,-newsystem.system_Size+(2*np.random.rand().new)"
   ]
  },
  {
   "cell_type": "code",
   "execution_count": 95,
   "metadata": {},
   "outputs": [
    {
     "data": {
      "text/plain": [
       "array([], shape=(0, 4), dtype=float64)"
      ]
     },
     "execution_count": 95,
     "metadata": {},
     "output_type": "execute_result"
    }
   ],
   "source": [
    "body=system(1,1,2,0.5,1)\n",
    "numbers=np.random.random([0,4])\n",
    "numbers"
   ]
  }
 ],
 "metadata": {
  "kernelspec": {
   "display_name": "Python 3",
   "language": "python",
   "name": "python3"
  },
  "language_info": {
   "codemirror_mode": {
    "name": "ipython",
    "version": 3
   },
   "file_extension": ".py",
   "mimetype": "text/x-python",
   "name": "python",
   "nbconvert_exporter": "python",
   "pygments_lexer": "ipython3",
   "version": "3.12.2"
  }
 },
 "nbformat": 4,
 "nbformat_minor": 2
}
